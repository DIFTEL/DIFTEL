{
 "cells": [
  {
   "cell_type": "markdown",
   "id": "21a1e39e",
   "metadata": {},
   "source": [
    "## Clonación de voz usando Coqui\n",
    "\n",
    "https://www.youtube.com/watch?v=sMp8a7WPQ0Q&ab_channel=FRIKIdelTO"
   ]
  },
  {
   "cell_type": "code",
   "execution_count": 5,
   "id": "f32f5725",
   "metadata": {},
   "outputs": [
    {
     "name": "stdout",
     "output_type": "stream",
     "text": [
      "Configurando el entorno para cargar el modelo XTTS v2...\n",
      "Intentando preparar para añadir: TTS.tts.configs.xtts_config.XttsConfig\n",
      "Intentando preparar para añadir: TTS.tts.models.xtts.XttsAudioConfig\n",
      "Intentando preparar para añadir: TTS.config.shared_configs.BaseDatasetConfig\n",
      "Intentando preparar para añadir: TTS.tts.models.xtts.XttsArgs\n",
      "\n",
      "Resumen del proceso de configuración de globales seguros:\n",
      "INFO: 'TTS.tts.configs.xtts_config.XttsConfig' procesada para globales seguros.\n",
      "INFO: 'TTS.tts.models.xtts.XttsAudioConfig' procesada para globales seguros.\n",
      "INFO: 'TTS.config.shared_configs.BaseDatasetConfig' procesada para globales seguros.\n",
      "INFO: 'TTS.tts.models.xtts.XttsArgs' procesada para globales seguros.\n",
      "\n",
      "INFO: 4 de 4 clases fueron procesadas para los globales seguros de PyTorch.\n"
     ]
    }
   ],
   "source": [
    "import torch\n",
    "import importlib\n",
    "\n",
    "# Lista de clases que necesitan ser añadidas a los globales seguros\n",
    "classes_to_make_safe = [\n",
    "    \"TTS.tts.configs.xtts_config.XttsConfig\",      # La que ya estaba\n",
    "    \"TTS.tts.models.xtts.XttsAudioConfig\",         # La que causó el error\n",
    "    \"TTS.config.shared_configs.BaseDatasetConfig\", # Comúnmente necesaria para XTTS\n",
    "    \"TTS.tts.models.xtts.XttsArgs\"                 # Comúnmente necesaria para XTTS\n",
    "]\n",
    "\n",
    "added_classes_details = []\n",
    "successful_adds = 0\n",
    "\n",
    "print(f\"Configurando el entorno para cargar el modelo XTTS v2...\")\n",
    "for class_path_str in classes_to_make_safe:\n",
    "    print(f\"Intentando preparar para añadir: {class_path_str}\")\n",
    "    try:\n",
    "        module_path, class_name = class_path_str.rsplit('.', 1)\n",
    "        \n",
    "        # Intentar importar el módulo y obtener la clase\n",
    "        module = importlib.import_module(module_path)\n",
    "        actual_class = getattr(module, class_name)\n",
    "        \n",
    "        # Añadir a los globales seguros\n",
    "        # torch.serialization.add_safe_globals es idempotente, no hay problema si se llama varias veces con la misma clase\n",
    "        torch.serialization.add_safe_globals([actual_class])\n",
    "        \n",
    "        added_classes_details.append(f\"'{class_path_str}' procesada para globales seguros.\")\n",
    "        successful_adds +=1 # Contamos como éxito incluso si ya estaba, pues el estado deseado se alcanza\n",
    "    except ImportError:\n",
    "        added_classes_details.append(f\"ERROR Importando: No se pudo importar el módulo para '{class_path_str}'. Verifica el path y la instalación de TTS.\")\n",
    "    except AttributeError:\n",
    "        added_classes_details.append(f\"ERROR Atributo: No se pudo encontrar la clase '{class_name}' en '{module_path}'.\")\n",
    "    except Exception as e:\n",
    "        added_classes_details.append(f\"ERROR Inesperado al procesar '{class_path_str}': {e}\")\n",
    "\n",
    "# Imprimir resumen\n",
    "print(\"\\nResumen del proceso de configuración de globales seguros:\")\n",
    "for detail in added_classes_details:\n",
    "    print(f\"INFO: {detail}\")\n",
    "\n",
    "print(f\"\\nINFO: {successful_adds} de {len(classes_to_make_safe)} clases fueron procesadas para los globales seguros de PyTorch.\")\n",
    "if successful_adds < len(classes_to_make_safe):\n",
    "    print(\"ADVERTENCIA: No todas las clases pudieron ser procesadas. Revisa los mensajes de ERROR anteriores.\")\n"
   ]
  },
  {
   "cell_type": "code",
   "execution_count": 6,
   "id": "d2fc5ba1",
   "metadata": {},
   "outputs": [
    {
     "name": "stdout",
     "output_type": "stream",
     "text": [
      "\n",
      "Intentando cargar el modelo: tts_models/multilingual/multi-dataset/xtts_v2...\n",
      " > tts_models/multilingual/multi-dataset/xtts_v2 is already downloaded.\n",
      " > Using model: xtts\n",
      " > Using model: xtts\n",
      "¡Modelo XTTS v2 cargado exitosamente!\n",
      "¡Modelo XTTS v2 cargado exitosamente!\n"
     ]
    }
   ],
   "source": [
    "from TTS.api import TTS\n",
    "import torch\n",
    "\n",
    "device = \"cuda\" if torch.cuda.is_available() else \"cpu\"\n",
    "model_name_v2 = \"tts_models/multilingual/multi-dataset/xtts_v2\" # o la que estés usando para v2\n",
    "\n",
    "print(f\"\\nIntentando cargar el modelo: {model_name_v2}...\")\n",
    "try:\n",
    "    tts_v2 = TTS(model_name=model_name_v2).to(device) # Asegúrate que la variable sea tts_v2 o la que uses\n",
    "    print(\"¡Modelo XTTS v2 cargado exitosamente!\")\n",
    "except Exception as e:\n",
    "    print(f\"ERROR al cargar el modelo '{model_name_v2}': {type(e).__name__} - {e}\")\n",
    "    print(\"Si es un UnpicklingError, revisa el mensaje para ver si falta otra clase en 'classes_to_make_safe' en la celda anterior.\")\n",
    "    print(\"Si es otro error, por favor copia el mensaje completo.\")"
   ]
  },
  {
   "cell_type": "code",
   "execution_count": 36,
   "id": "4141e792",
   "metadata": {},
   "outputs": [],
   "source": [
    "telematica = \"Ingeniería Civil Telemática es una carrera que busca integrar las tecnologías, enfocándose en el desarrollo de soluciones innovadoras\""
   ]
  },
  {
   "cell_type": "code",
   "execution_count": null,
   "id": "5ff1d342",
   "metadata": {},
   "outputs": [
    {
     "name": "stdout",
     "output_type": "stream",
     "text": [
      " > Text splitted to sentences.\n",
      "['Ingeniería Civil Telemática es una carrera que busca integrar las tecnologías, enfocándose en el desarrollo de soluciones innovadoras']\n",
      " > Processing time: 24.98600959777832\n",
      " > Real-time factor: 2.0692172632016255\n",
      " > Processing time: 24.98600959777832\n",
      " > Real-time factor: 2.0692172632016255\n"
     ]
    },
    {
     "data": {
      "text/plain": [
       "'TONY_telematica_2.wav'"
      ]
     },
     "execution_count": 65,
     "metadata": {},
     "output_type": "execute_result"
    }
   ],
   "source": [
    "tts_v2.tts_to_file(\n",
    "    text=telematica,\n",
    "    speaker_wav=\"audio_in/iron_voice.WAV\",  # Puedes especificar un archivo de voz si es necesario\n",
    "    language=\"es\",  # Puedes especificar un idioma si es necesario\n",
    "    file_path=\"TONY_telematica.wav\"\n",
    ")"
   ]
  },
  {
   "cell_type": "code",
   "execution_count": 39,
   "id": "18cdb9ba",
   "metadata": {},
   "outputs": [],
   "source": [
    "quien = \"Soy un prototipo de asistente virtual, pero me encantaría evolucionar para poder asistir junto a ustedes a ferias vocacionales o eventos como puertas abiertas aquí en la universidad, siendo parte de los increíbles proyectos creado por ustedes, el equipo de Difusión Telemática.\""
   ]
  },
  {
   "cell_type": "code",
   "execution_count": null,
   "id": "1bd2f321",
   "metadata": {},
   "outputs": [
    {
     "name": "stdout",
     "output_type": "stream",
     "text": [
      " > Text splitted to sentences.\n",
      "['Soy un prototipo de asistente virtual, pero me encantaría evolucionar para poder asistir junto a ustedes a ferias vocacionales o eventos como puertas abiertas aquí en la universidad, siendo parte de los increíbles proyectos creado por ustedes, el equipo de Difusión Telemática.']\n",
      "[!] Warning: The text length exceeds the character limit of 239 for language 'es', this might cause truncated audio.\n",
      "[!] Warning: The text length exceeds the character limit of 239 for language 'es', this might cause truncated audio.\n",
      " > Processing time: 42.114299058914185\n",
      " > Real-time factor: 2.0834536522441796\n",
      " > Processing time: 42.114299058914185\n",
      " > Real-time factor: 2.0834536522441796\n"
     ]
    },
    {
     "data": {
      "text/plain": [
       "'TONY_soy.wav'"
      ]
     },
     "execution_count": 42,
     "metadata": {},
     "output_type": "execute_result"
    }
   ],
   "source": [
    "tts_v2.tts_to_file(\n",
    "    text=quien,\n",
    "    speaker_wav=\"audio_in/iron_voice.WAV\",  # Puedes especificar un archivo de voz si es necesario\n",
    "    language=\"es\",  # Puedes especificar un idioma si es necesario\n",
    "    file_path=\"TONY_soy.wav\"\n",
    ")"
   ]
  },
  {
   "cell_type": "code",
   "execution_count": 66,
   "id": "4c015a86",
   "metadata": {},
   "outputs": [],
   "source": [
    "familiar = \"Esta voz les suena familiar porque el audio base para entrenar el modelo TTS, viene de un personaje ficticio que fue un genio, millonario, playboy y filántropo ¿Adivinaron cuál es el personaje?\""
   ]
  },
  {
   "cell_type": "code",
   "execution_count": null,
   "id": "d2eb4c0e",
   "metadata": {},
   "outputs": [
    {
     "name": "stdout",
     "output_type": "stream",
     "text": [
      " > Text splitted to sentences.\n",
      "['Esta voz les suena familiar porque el audio base para entrenar el modelo TTS, viene de un personaje ficticio que fue un genio, millonario, playboy y filántropo ¿Adivinaron cuál es el personaje?']\n",
      " > Processing time: 33.31199049949646\n",
      " > Real-time factor: 1.9980017803507226\n",
      " > Processing time: 33.31199049949646\n",
      " > Real-time factor: 1.9980017803507226\n"
     ]
    },
    {
     "data": {
      "text/plain": [
       "'TONY_soy_iron_man.wav'"
      ]
     },
     "execution_count": 68,
     "metadata": {},
     "output_type": "execute_result"
    }
   ],
   "source": [
    "tts_v2.tts_to_file(\n",
    "    text=familiar,\n",
    "    speaker_wav=\"audio_in/iron_voice.WAV\",  # Puedes especificar un archivo de voz si es necesario\n",
    "    language=\"es\",  # Puedes especificar un idioma si es necesario\n",
    "    file_path=\"TONY_soy_iron_man.wav\"\n",
    ")"
   ]
  },
  {
   "cell_type": "code",
   "execution_count": 54,
   "id": "483b9b71",
   "metadata": {},
   "outputs": [],
   "source": [
    "curioso = \"Es curioso, porque antes programaba asistentes virtuales como Jarvis o Friday y ahora soy uno de ellos\""
   ]
  },
  {
   "cell_type": "code",
   "execution_count": null,
   "id": "89ec11a4",
   "metadata": {},
   "outputs": [
    {
     "name": "stdout",
     "output_type": "stream",
     "text": [
      " > Text splitted to sentences.\n",
      "['Es curioso, porque antes programaba asistentes virtuales como Jarvis o Friday y ahora soy uno de ellos']\n",
      " > Processing time: 17.106234550476074\n",
      " > Real-time factor: 1.9359882967787503\n",
      " > Processing time: 17.106234550476074\n",
      " > Real-time factor: 1.9359882967787503\n"
     ]
    },
    {
     "data": {
      "text/plain": [
       "'TONY_curiso.wav'"
      ]
     },
     "execution_count": 55,
     "metadata": {},
     "output_type": "execute_result"
    }
   ],
   "source": [
    "tts_v2.tts_to_file(\n",
    "    text=curioso,\n",
    "    speaker_wav=\"audio_in/iron_voice.WAV\",  # Puedes especificar un archivo de voz si es necesario\n",
    "    language=\"es\",  # Puedes especificar un idioma si es necesario\n",
    "    file_path=\"TONY_curioso.wav\"\n",
    ")"
   ]
  },
  {
   "cell_type": "code",
   "execution_count": 56,
   "id": "2918fc43",
   "metadata": {},
   "outputs": [],
   "source": [
    "saludo = \"Hola chicos, soy Tony Stark, pero me pueden llamar TONY. Estoy aquí para ayudarles a conocer más sobre la carrera de Ingeniería Civil Telemática.\""
   ]
  },
  {
   "cell_type": "code",
   "execution_count": null,
   "id": "2f0350ec",
   "metadata": {},
   "outputs": [
    {
     "name": "stdout",
     "output_type": "stream",
     "text": [
      " > Text splitted to sentences.\n",
      "['Hola chicos, soy Tony Stark, pero me pueden llamar TONY.', 'Estoy aquí para ayudarles a conocer más sobre la carrera de Ingeniería Civil Telemática.']\n",
      " > Processing time: 19.52146005630493\n",
      " > Real-time factor: 1.849512727904251\n",
      " > Processing time: 19.52146005630493\n",
      " > Real-time factor: 1.849512727904251\n"
     ]
    },
    {
     "data": {
      "text/plain": [
       "'TONY_saludando.wav'"
      ]
     },
     "execution_count": 57,
     "metadata": {},
     "output_type": "execute_result"
    }
   ],
   "source": [
    "tts_v2.tts_to_file(\n",
    "    text=saludo,\n",
    "    speaker_wav=\"audio_in/iron_voice.WAV\",  # Puedes especificar un archivo de voz si es necesario\n",
    "    language=\"es\",  # Puedes especificar un idioma si es necesario\n",
    "    file_path=\"TONY_saludando.wav\"\n",
    ")"
   ]
  },
  {
   "cell_type": "code",
   "execution_count": null,
   "id": "aef542a9",
   "metadata": {},
   "outputs": [],
   "source": [
    "cierre = \"Espero que disfruten de la experiencia y aprendan mucho sobre nuestra carrera. ¡Nos vemos pronto!\""
   ]
  },
  {
   "cell_type": "code",
   "execution_count": null,
   "id": "4a9ef003",
   "metadata": {},
   "outputs": [
    {
     "name": "stdout",
     "output_type": "stream",
     "text": [
      " > Text splitted to sentences.\n",
      "['Espero que disfruten de la experiencia y aprendan mucho sobre nuestra carrera.', '¡Nos vemos pronto!']\n",
      " > Processing time: 12.731318235397339\n",
      " > Real-time factor: 1.9577491567905554\n",
      " > Processing time: 12.731318235397339\n",
      " > Real-time factor: 1.9577491567905554\n"
     ]
    },
    {
     "data": {
      "text/plain": [
       "'TONY_cierre.wav'"
      ]
     },
     "execution_count": 63,
     "metadata": {},
     "output_type": "execute_result"
    }
   ],
   "source": [
    "tts_v2.tts_to_file(\n",
    "    text=cierre,\n",
    "    speaker_wav=\"audio_in/iron_voice.WAV\",  # Puedes especificar un archivo de voz si es necesario\n",
    "    language=\"es\",  # Puedes especificar un idioma si es necesario\n",
    "    file_path=\"TONY_cierre.wav\"\n",
    ")"
   ]
  },
  {
   "cell_type": "code",
   "execution_count": 69,
   "id": "cfdbd805",
   "metadata": {},
   "outputs": [],
   "source": [
    "cierre_presentacion = \"Espero que hayan disfrutado de la presentación, los queremos tres millones\""
   ]
  },
  {
   "cell_type": "code",
   "execution_count": 72,
   "id": "3bc1014b",
   "metadata": {},
   "outputs": [
    {
     "name": "stdout",
     "output_type": "stream",
     "text": [
      " > Text splitted to sentences.\n",
      "['Espero que hayan disfrutado de la presentación, los queremos tres millones']\n",
      " > Processing time: 10.048422574996948\n",
      " > Real-time factor: 1.8610378122789504\n",
      " > Processing time: 10.048422574996948\n",
      " > Real-time factor: 1.8610378122789504\n"
     ]
    },
    {
     "data": {
      "text/plain": [
       "'audio_out/TONY_cierre_presentacion_2.wav'"
      ]
     },
     "execution_count": 72,
     "metadata": {},
     "output_type": "execute_result"
    }
   ],
   "source": [
    "tts_v2.tts_to_file(\n",
    "    text=cierre_presentacion,\n",
    "    speaker_wav=\"audio_in/iron_voice.WAV\",  # Puedes especificar un archivo de voz si es necesario\n",
    "    language=\"es\",  # Puedes especificar un idioma si es necesario\n",
    "    file_path=\"audio_out/TONY_cierre_presentacion_2.wav\"\n",
    ")"
   ]
  },
  {
   "cell_type": "code",
   "execution_count": 79,
   "id": "4b6fc292",
   "metadata": {},
   "outputs": [],
   "source": [
    "apagar = \"Hasta pronto! Cerrando sesión\""
   ]
  },
  {
   "cell_type": "code",
   "execution_count": 80,
   "id": "bbe3b68f",
   "metadata": {},
   "outputs": [
    {
     "name": "stdout",
     "output_type": "stream",
     "text": [
      " > Text splitted to sentences.\n",
      "['Hasta pronto!', 'Cerrando sesión']\n",
      " > Processing time: 6.051150560379028\n",
      " > Real-time factor: 2.0429303934400656\n",
      " > Processing time: 6.051150560379028\n",
      " > Real-time factor: 2.0429303934400656\n"
     ]
    },
    {
     "data": {
      "text/plain": [
       "'audio_out/cerrando_programa.wav'"
      ]
     },
     "execution_count": 80,
     "metadata": {},
     "output_type": "execute_result"
    }
   ],
   "source": [
    "tts_v2.tts_to_file(\n",
    "    text=apagar,\n",
    "    speaker_wav=\"audio_in/iron_voice.WAV\",  # Puedes especificar un archivo de voz si es necesario\n",
    "    language=\"es\",  # Puedes especificar un idioma si es necesario\n",
    "    file_path=\"audio_out/cerrando_programa.wav\"\n",
    ")"
   ]
  }
 ],
 "metadata": {
  "kernelspec": {
   "display_name": ".venv-py311",
   "language": "python",
   "name": "python3"
  },
  "language_info": {
   "codemirror_mode": {
    "name": "ipython",
    "version": 3
   },
   "file_extension": ".py",
   "mimetype": "text/x-python",
   "name": "python",
   "nbconvert_exporter": "python",
   "pygments_lexer": "ipython3",
   "version": "3.11.8"
  }
 },
 "nbformat": 4,
 "nbformat_minor": 5
}
